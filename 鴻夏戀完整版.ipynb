{
 "cells": [
  {
   "cell_type": "markdown",
   "metadata": {},
   "source": [
    "### 讀取需要的函式庫"
   ]
  },
  {
   "cell_type": "code",
   "execution_count": 1,
   "metadata": {},
   "outputs": [],
   "source": [
    "from sklearn.feature_extraction.text import TfidfVectorizer\n",
    "from sklearn.feature_extraction.text import CountVectorizer\n",
    "from sklearn.preprocessing import StandardScaler\n",
    "from sklearn.decomposition import PCA\n",
    "from sklearn.cluster import KMeans\n",
    "from sklearn.metrics.pairwise import cosine_similarity\n",
    "from IPython.display import clear_output\n",
    "from wordcloud import WordCloud\n",
    "from PIL import Image\n",
    "import seaborn as sns\n",
    "from func import *\n",
    "import matplotlib.pyplot as plt\n",
    "import pandas as pd\n",
    "import numpy as np\n",
    "import jieba\n",
    "import sys\n",
    "import re\n",
    "import os\n",
    "# re -> \\d for number, \\s for any space (\\t\\r\\n...) "
   ]
  },
  {
   "cell_type": "markdown",
   "metadata": {},
   "source": [
    "### 定義 addstopword 及 adddict 函式"
   ]
  },
  {
   "cell_type": "code",
   "execution_count": 2,
   "metadata": {},
   "outputs": [],
   "source": [
    "def addstopword(data):\n",
    "    stop = []\n",
    "    if os.path.isfile('./stay.txt'):\n",
    "        with open('./stay.txt', 'rb') as f:\n",
    "            text = f.read()\n",
    "            encode = chardet.detect(text)\n",
    "        stay = list(map(str.strip, open('./stay.txt', 'r+', encoding=encode['encoding']).readlines()))\n",
    "    else:\n",
    "        stay = []\n",
    "    length = len(data)\n",
    "    index = 0\n",
    "    value = ''\n",
    "    tmp = ''\n",
    "    while(index != length):\n",
    "        if data[index] not in stay:\n",
    "            print(data[index])\n",
    "            value = input('Add to stop word [y:stopword/n:stayword/q:quit]: ')\n",
    "            if value == 'y':\n",
    "                if tmp == 'p': stay.remove(data[index])\n",
    "                stop.append(data[index])\n",
    "            elif value == 'n':\n",
    "                if tmp == 'p': stop.remove(data[index])\n",
    "                stay.append(data[index])\n",
    "            elif value == 'p':\n",
    "                index -= 2\n",
    "            elif value == 'q':\n",
    "                break\n",
    "            clear_output()\n",
    "        tmp = value\n",
    "        index += 1\n",
    "    return stop, stay\n",
    "\n",
    "\n",
    "def addword():\n",
    "    word = []\n",
    "    while(True):\n",
    "        # clear_output()\n",
    "        value = input('Add to dictionay word [q:quit]: ')\n",
    "        if value == 'q':\n",
    "            break\n",
    "        else:\n",
    "            word.append(value)\n",
    "    return word"
   ]
  },
  {
   "cell_type": "markdown",
   "metadata": {},
   "source": [
    "### 讀取資料夾中的資料"
   ]
  },
  {
   "cell_type": "code",
   "execution_count": 3,
   "metadata": {},
   "outputs": [
    {
     "name": "stdout",
     "output_type": "stream",
     "text": [
      "\n",
      "Number of files : 15\n"
     ]
    }
   ],
   "source": [
    "#path = '../../107-1PythonSampleCode/week_5/task_5/*.txt'\n",
    "path = 'C:/Users/User/Desktop/20181106python/Week_6/all1/*.txt'\n",
    "title, data = readdir(path)"
   ]
  },
  {
   "cell_type": "markdown",
   "metadata": {},
   "source": [
    "### 顯示部份資料內容"
   ]
  },
  {
   "cell_type": "code",
   "execution_count": 4,
   "metadata": {},
   "outputs": [
    {
     "name": "stdout",
     "output_type": "stream",
     "text": [
      "----Document : 1----\n",
      "中國政府核准鴻夏戀 \n",
      "...\n",
      "LED 面板的需求\n",
      "\n",
      "----Document : 10----\n",
      "〈夏普OLED量產〉\n",
      "...\n",
      "會提前達成。\r\n",
      "\r\n",
      "\n",
      "----Document : 11----\n",
      "鴻海11月營收創新高\n",
      "...\n",
      "個月就重返東證一部\n",
      "\n",
      "----Document : 12----\n",
      "夏普OLED將量產 \n",
      "...\n",
      "領域\r\n",
      "的重大突破\n",
      "\n",
      "----Document : 13----\n",
      "夏普轉虧為盈！郭董3\n",
      "...\n",
      "\r\n",
      "成效已開始顯現\n",
      "\n",
      "----Document : 2----\n",
      "獲鴻海注資 夏普評級\n",
      "...\n",
      "證二部重回東證一部\n",
      "\n",
      "----Document : 3----\n",
      "鴻夏戀齊步走 鴻家軍\n",
      "...\n",
      "下半年可望營收成長\n",
      "\n",
      "----Document : 4----\n",
      "郭董神準！1月逢低質\n",
      "...\n",
      "安心拚投資、拚經濟\n",
      "\n",
      "----Document : 5----\n",
      "〈郭董再出招〉 傳鴻\n",
      "...\n",
      "的供貨\r\n",
      "預作準備\n",
      "\n",
      "----Document : 6----\n",
      "鴻海入主2年 夏普搶\n",
      "...\n",
      "受到手機客戶的青睞\n",
      "\n",
      "----Document : 7----\n",
      "鴻海正式入主夏普70\n",
      "...\n",
      "係，\r\n",
      "協助夏普重\n",
      "\n",
      "----Document : 8----\n",
      "鴻海改革續見成果 夏\n",
      "...\n",
      "18 年度財測預估\n",
      "\n",
      "----Document : 9----\n",
      "強化與鴻海合作！夏普\n",
      "...\n",
      "幅縮小(轉虧為盈)\n",
      "\n",
      "----Document : first_all----\n",
      "1.鴻夏戀 郭台銘沒\n",
      "...\n",
      "狂飆16.8%。\r\n",
      "\n",
      "----Document : second_all----\n",
      "\r\n",
      "1.\t鴻夏戀一波\n",
      "...\n",
      "\r\n",
      "\r\n",
      "\r\n",
      "\r\n",
      "\r\n",
      "\n"
     ]
    }
   ],
   "source": [
    "for i in range(len(data)):\n",
    "    print('----Document : {0}----'.format(title[i]))\n",
    "    print(data[i][:10], '...', data[i][-10:-1], sep='\\n', end='\\n\\n')"
   ]
  },
  {
   "cell_type": "markdown",
   "metadata": {},
   "source": [
    "### 新增詞彙至自定義詞庫，並匯入該詞庫\n",
    "* savetofile(path, list_like_data)\n",
    "* example for list_like_data:\n",
    "  * [['來台']] : 完整 '來台' 字串被存入字典中\n",
    "  * ['來台'] :　'來台' 視為獨立字元，存入 '來' '台' 於字典中 "
   ]
  },
  {
   "cell_type": "code",
   "execution_count": 5,
   "metadata": {},
   "outputs": [
    {
     "name": "stderr",
     "output_type": "stream",
     "text": [
      "Building prefix dict from the default dictionary ...\n",
      "Loading model from cache C:\\Users\\User\\AppData\\Local\\Temp\\jieba.cache\n",
      "Loading model cost 1.631 seconds.\n",
      "Prefix dict has been built succesfully.\n"
     ]
    }
   ],
   "source": [
    "# savetofile('./dict.txt', [['來台']])  # 完整字串　'來台'　被存入字典中\n",
    "jieba.load_userdict('C:/Users/User/Desktop/20181106python/Week_6/dict.txt')"
   ]
  },
  {
   "cell_type": "markdown",
   "metadata": {},
   "source": [
    "### 新增詞彙至自定義停止詞彙中"
   ]
  },
  {
   "cell_type": "code",
   "execution_count": 6,
   "metadata": {},
   "outputs": [],
   "source": [
    "stopword = ['一','二','三','四','五','六','七','八','九','十','年','月','日','用','淨','利','值','前',\n",
    "             '據','談','自','至','曾','出',\n",
    "            '合','最','供','而','個','很','得','達','家','進','所','夏','若','邱','但','中','可',\n",
    "            '他','我','列','將','對','之','率','已','由','佔','本','日','月','年','另','故','於',\n",
    "            '較','請','再','經','也','在','依','到','等','或','大','認列','不僅','讓','相關','最終',\n",
    "            '把','沒','及','過去','認為','為','按','比','仍','係','後','及與','以','時','該','的',\n",
    "            '並','更','就','註','有','事','來','不','從','堺','權','卻','說','要','今','度',\n",
    "            '手','才','又','其','長','了','百','億','元','例如','可能','由於','因此','土城','一份',\n",
    "            '上午','這份','多','赴','和','與','是','約','就是','只是','但是','如果','附註','部分',\n",
    "            '事項','各位','品牌','集團','幅度','資產','新','台幣','日圓','億日圓','機構','面板','日元',\n",
    "            '企業','報導','媒體','目前','提案','經營','實地','大阪','億元','以及','代工','一步','第二',\n",
    "            '雙方','方案','分析','接受','成為','事業','目前','高橋','董事','營業','受到','提供','使用',\n",
    "            '本年','說明','現金','成本','營業外','收入','結轉','分攤','其他','影響財務','詳合','結果',\n",
    "            '不是','是否','最高','記者','超過','兩家','主幹','我們','除了','自己','立刻','','日本',\n",
    "            '之間','不過','今天','然而','此外','工廠','預測','如下','之一','附註','附','註','其中',\n",
    "            '因為','查核','報告增加','會計','相對','仟元','金額','權益','能力利益','股東','合理性',\n",
    "            '假設','無形','上','開關鍵','模型','支出','控制','計算','資金評估','報告','因應','仟元',\n",
    "            '金額','權益','假設','無形','上','模型','支出','控制','計算資金','評估','人次','重大',\n",
    "            '資訊','總額','民國','估計','一副','公司','年度','包括','正確性','正','確性','減損','共為',\n",
    "            '預估','預算','去年同期','應該','雖然','下午','要求','一樣','一家','維持','公開','整體',\n",
    "            '表示','特性','市場','科目','發生','年本','重要','判斷','主要','流量','意見','關鍵','同期',\n",
    "            '評價','正確','地區','總資產','執行','程序','測試','稅後淨利','股份有限公司','蘋果','鴻海',\n",
    "            '夏普','郭台銘','鴻夏戀','iPhone','1','2','3','4','5','6','7','8','9','0','NT','2012',\n",
    "            '10','三星','供應商','INCJ','案','LG','會','下','買','電子','清單','向','都',\n",
    "            '能力','進','廠','內','購','併','這','看','人','被','能','外界','指出','五日','不同','陷入',\n",
    "            '出現','一年','什麼','安倍','這個','可以','一個','同時','去年','部門','二月','這是','月底',\n",
    "            '完成','財務','今年','階段','子公司','條件','引述','召開','擁有','有助','持有','進入','旗下',\n",
    "            '已經','入座','罩','業務','顯示','尺寸','萬張','取得','高達','持續','進行','人士','提出',\n",
    "            '社長','加工','內容','總部','沒有','加上','決定','群創','最大','四年','代廠','做','鴻','高',\n",
    "            '市','不會','傳出','文件','客戶超過','SDP','JDI','IGZO','Display','WitsView','NHK',\n",
    "            '12','7000','3500','2015','2016','25','30','000','29''一下子', '一九', '一九九九年', '一二八',\n",
    "             '一兆日圓', '一再', '一勞永逸', '一千七百', '一千五百', '一口', '一向', '一哩路', '一四會計', '一回',\n",
    "             '一城', '一塊', '一夕', '一天', '一套', '一季', '一宗', '一役', '一心', '一成則', '一手', '一把', '一搏', \n",
    "             '一擲', '一攤', '一支', '一方', '一月', '一月底', '一樁', '一比', '一流', '一片', '一百', '一百三十元', \n",
    "             '一百九十', '一站', '一筆', '一職', '一舉', '一般性', '一起', '一路', '一身', '一連串', '一進',\n",
    "            '一下子', '一部', '一項', '一顆', '七七', '七五', '七千', '七四', '七年', '三九', '三五', '三個', '三億',\n",
    "            '三兆台幣', '三公', '三六', '三十九', '三十五', '三十分', '三千', '三名', '三大會', '三成', '三支', '三方',\n",
    "            '三月', '三月底', '三率', '三筆', '三等', '三箭', '三緘其口', '三角', '三足鼎立', '三降', '三點', '上個', '上千',\n",
    "            '上升', '上半年', '上台', '上周', '上層', '上層察覺', '上市', '上揚', '上攻', '上放著', '上旬', '上極']\n",
    "puncs_Full = '！？｡＂＃＄％＆＇（）()＊＋，－／：；＜＝＞＠［＼］$＾＿｀｛｜｝～｟｠｢｣､、〃》「」『』【】〔〕〖〗〘〙〚〛〜〝〞〟〰〾〿–—‘’‛“”„‟…‧﹏.。'\n",
    "puncs_Half = \"!?.#$%&'()*+,-/:;<=>@[]^_{}|~\\\\\\\"\"\n",
    "# savetofile('./stopword.txt', [stopwords, puncs_Full, puncs_Half])"
   ]
  },
  {
   "cell_type": "code",
   "execution_count": 7,
   "metadata": {},
   "outputs": [
    {
     "data": {
      "text/plain": [
       "['一', '二', '三', '四', '五', '六', '七', '八', '九', '十']"
      ]
     },
     "execution_count": 7,
     "metadata": {},
     "output_type": "execute_result"
    }
   ],
   "source": [
    "# stopword = readdir('./stopword.txt')[1][0].split('\\n')\n",
    "stopword.append('\\n')\n",
    "stopword[0:10]"
   ]
  },
  {
   "cell_type": "markdown",
   "metadata": {},
   "source": [
    "### 利用 jieba 對文件進行斷字，並統計字詞頻率，顯示前十名資料"
   ]
  },
  {
   "cell_type": "code",
   "execution_count": 8,
   "metadata": {},
   "outputs": [
    {
     "name": "stdout",
     "output_type": "stream",
     "text": [
      "Number of word in document (1) :  50\n",
      "[(' ', 6), ('\\r\\n', 6), ('股價上漲', 2), ('注資', 2), ('中國政府', 1), ('核准', 1), ('17', 1), ('獲', 1), ('中國商務部', 1), ('反壟斷局', 1)]\n",
      "Number of word in document (10) :  76\n",
      "[(' ', 55), ('\\r\\n', 19), ('OLED', 11), ('量產', 3), ('郭董', 3), ('設定', 3), ('供應', 3), ('戰國時代', 2), ('商品化', 2), ('目標', 2)]\n",
      "Number of word in document (11) :  107\n",
      "[(' ', 76), ('\\r\\n', 23), ('11', 6), ('X', 6), ('營收', 5), ('第', 4), ('產品', 4), ('創新高', 3), ('重返', 3), ('東證一部', 3)]\n",
      "Number of word in document (12) :  137\n",
      "[('\\r\\n', 34), ('OLED', 24), ('量產', 10), (' ', 7), ('手機', 7), ('供應', 7), ('智慧', 5), ('訂單', 4), ('開始', 4), ('郭董', 3)]\n",
      "Number of word in document (13) :  106\n",
      "[('\\r\\n', 16), ('轉虧為盈', 3), ('郭董', 3), (' ', 2), ('做到', 2), ('入主', 2), ('戴正吳', 2), ('戴桑', 2), ('台灣', 2), ('拿回', 2)]\n",
      "Number of word in document (2) :  82\n",
      "[('\\r\\n', 16), (' ', 5), ('股價上漲', 3), ('R&I', 3), ('未來', 3), ('注資', 2), ('評級', 2), ('投資', 2), ('融資額度', 2), ('評等調升', 2)]\n",
      "Number of word in document (3) :  114\n",
      "[('\\r\\n', 17), ('股價上漲', 5), ('訂單', 4), ('鴻家軍', 3), ('戴正吳', 3), ('廣宇', 3), ('第', 3), ('台灣', 2), ('連續', 2), ('漲停', 2)]\n",
      "Number of word in document (4) :  87\n",
      "[(' ', 45), ('\\r\\n', 20), ('質押', 10), ('郭董', 8), ('股價', 6), ('投資', 4), ('拚', 3), ('近期', 3), ('銀行', 3), ('股票質押', 3)]\n",
      "Number of word in document (5) :  74\n",
      "[(' ', 32), ('\\r\\n', 17), ('OLED', 7), ('面板廠', 6), ('鄭州', 5), ('中國', 5), ('攜手', 2), ('河南', 2), ('砸', 2), ('鎖定', 2)]\n",
      "Number of word in document (6) :  159\n",
      "[(' ', 136), ('\\r\\n', 45), ('產能', 18), ('OLED', 10), ('LTPS', 10), ('萬片', 9), ('轉換', 6), ('生產', 6), ('第', 5), ('技術', 5)]\n",
      "Number of word in document (7) :  199\n",
      "[('\\r\\n', 56), ('LTPS', 5), (' ', 3), ('援助', 3), ('投資', 3), ('有機', 3), ('EL', 3), ('收購', 3), ('供應', 3), ('合作', 3)]\n",
      "Number of word in document (8) :  94\n",
      "[(' ', 51), ('\\r\\n', 19), ('2017', 4), ('財年', 4), ('銷售', 4), ('預計', 3), ('改革', 2), ('利益', 2), ('成', 2), ('LCD', 2)]\n",
      "Number of word in document (9) :  157\n",
      "[(' ', 102), ('\\r\\n', 37), ('中國', 11), ('合作', 6), ('2017', 4), ('科技', 4), ('戴正吳', 4), ('統籌', 3), ('採購', 3), ('下半年', 3)]\n",
      "Number of word in document (first_all) :  2479\n",
      "[('\\r\\n', 501), (' ', 162), ('技術', 57), ('產業', 39), ('革新', 33), ('銀行', 29), ('收購', 27), ('台灣', 26), ('合作', 25), ('經濟', 24)]\n",
      "Number of word in document (second_all) :  2593\n",
      "[('\\r\\n', 515), (' ', 147), ('技術', 56), ('OLED', 44), ('供應', 37), ('負債', 35), ('投資', 32), ('收購', 22), ('未來', 21), ('商', 18)]\n"
     ]
    }
   ],
   "source": [
    "wordDictionary = []\n",
    "for i in range(len(data)):\n",
    "    seg_list = jieba.cut(data[i], cut_all=False)\n",
    "    seg_list = list(seg_list)\n",
    "    wordDict = {}\n",
    "    for w in seg_list:\n",
    "        if (w not in stopword) and (w not in puncs_Full) and (w not in puncs_Half):\n",
    "            if w in wordDict:\n",
    "                wordDict[w] = wordDict[w] + 1\n",
    "            else:\n",
    "                wordDict[w] = 1\n",
    "    wordDictionary.append(wordDict)\n",
    "    print('Number of word in document ({0}) : '.format(title[i]), len(wordDict))\n",
    "    sort = sorted(wordDict.items(), key=lambda x: x[1], reverse = True)\n",
    "    print(sort[0:10])\n",
    "    data[i] = ' '.join(jieba.cut(data[i], cut_all=False))"
   ]
  },
  {
   "cell_type": "markdown",
   "metadata": {},
   "source": [
    "### 顯示各文件低於閥值 (limit) 的字詞"
   ]
  },
  {
   "cell_type": "code",
   "execution_count": 9,
   "metadata": {},
   "outputs": [
    {
     "name": "stdout",
     "output_type": "stream",
     "text": [
      "----Document : 1----\n",
      "\n",
      "----Document : 10----\n",
      "\n",
      "----Document : 11----\n",
      "\n",
      "----Document : 12----\n",
      "\n",
      "----Document : 13----\n",
      "\n",
      "----Document : 2----\n",
      "\n",
      "----Document : 3----\n",
      "\n",
      "----Document : 4----\n",
      "\n",
      "----Document : 5----\n",
      "\n",
      "----Document : 6----\n",
      "\n",
      "----Document : 7----\n",
      "\n",
      "----Document : 8----\n",
      "\n",
      "----Document : 9----\n",
      "\n",
      "----Document : first_all----\n",
      "\n",
      "----Document : second_all----\n",
      "\n"
     ]
    }
   ],
   "source": [
    "limit = 0\n",
    "wordsperdocument = 50\n",
    "for i in range(len(data)):\n",
    "    count = 0\n",
    "    print('----Document : {0}----'.format(title[i]))\n",
    "    for ind, value in wordDictionary[0].items():\n",
    "        if (value <= limit) & (count != wordsperdocument):\n",
    "            count += 1\n",
    "            print(ind, end = ', ')\n",
    "    print()"
   ]
  },
  {
   "cell_type": "markdown",
   "metadata": {},
   "source": [
    "### 利用 wordDictionary 移除出現次數低於閥值 (limit) 的字詞，並顯示部份結果"
   ]
  },
  {
   "cell_type": "code",
   "execution_count": 10,
   "metadata": {},
   "outputs": [
    {
     "name": "stdout",
     "output_type": "stream",
     "text": [
      "document : 1\n",
      "中國政府 核准 鴻夏戀   夏普 股價上漲 17 ％ \r\n",
      " 鴻海 集團 獲 中國商務部 反壟斷局 行... 客戶 蘋果 ， 將在 未來 iPhone   新機 上 採用   OLED   面板 的 需求 \n",
      "\n",
      "document : 10\n",
      "〈 夏普 OLED 量產 〉 郭董 令出 必行   iPhone   OLED 面板 戰國時代 將起...於 夏普 所 設定 的   2019   年 營運 目標 ， 將有 機會 提前 達成 。 \r\n",
      " \r\n",
      "\n",
      "document : 11\n",
      "鴻海 11 月 營收 創新高   夏普 也 重返 東證一部 \r\n",
      " 受到 蘋果   iPhone   ...， 但 最後 證明 夏普 只花 了   \r\n",
      " 1   年   4   個 月 就 重返 東證一部 \n",
      "\n",
      "document : 12\n",
      "夏普 OLED 將 量產   擴大 鴻海 搶單 優勢 \r\n",
      " 鴻海 與 夏普 合體 出擊 ， 在 手機...夏普 加入 iPhone   OLED 供應 商 ， 將是 台企 面板 領域 \r\n",
      " 的 重大突破 \n",
      "\n",
      "document : 13\n",
      "夏普 轉虧為盈 ！ 郭董 3 招神 救援   讓 日本 人驚 呆 \r\n",
      " 鴻海 董事長 郭台銘 真的 ... 能 刪減成本 ； 三 、 鴻海 入主 夏普 後 力推 組織改造 ， \r\n",
      " 成效 已 開始 顯現 \n",
      "\n",
      "document : 2\n",
      "獲 鴻海 注資   夏普 評級 、 股價上漲 \r\n",
      " 12 日 鴻海 對 夏普 投資 資金 到位 ， ...看好 ， \r\n",
      " 未來 隨著 夏普 營運改善 ， 股票 還有 機會 從 東證 二部 重回 東證一部 \n",
      "\n",
      "document : 3\n",
      "鴻夏戀 齊步 走   鴻家軍 慶祝 行情 發亮 鴻海 正式入主 夏普 ， \r\n",
      " 戴正吳 出任 夏普 ...成長 ， 隨著 電視 、 雲端 、 車用 、 3C 訂單 增溫 ， \r\n",
      " 下半年 可望 營收成長 \n",
      "\n",
      "document : 4\n",
      "郭董 神準 ！ 1 月 逢 低 質押 持股 43 萬張   拚 經濟 又 賺 價差 \r\n",
      " 近期 投資...神準 出手 ， \r\n",
      " 不但 不用 擔心 股票 被 追繳 ， 就 能 安心 拚 投資 、 拚 經濟 \n",
      "\n",
      "document : 5\n",
      "〈 郭董 再 出招 〉   傳 鴻海 攜手 夏普 於 鄭州 設 OLED 廠面 對 中國 廠商 可能...  面板廠 ， 目標 鎖定 在 為   2018   年 或 之 後 的 供貨 \r\n",
      " 預作 準備 \n",
      "\n",
      "document : 6\n",
      "鴻海 入主 2 年   夏普 搶 吃 蘋果 單   今年 擴增產能 \r\n",
      " 鴻海     在   20...\r\n",
      " 與 筆記型 電腦 產品 線 後 ， IGZO   面板 正逐漸 受到 手機 客戶 的 青睞 \n",
      "\n",
      "document : 7\n",
      "鴻海 正式入主 夏普 7000 億 日元     4 年 “ 鴻夏戀 ” 終結 \r\n",
      " 夏普 2 月 ...望 借助 鴻海 充沛 的 資金 ， 以及 鴻海 與 蘋果 的 良好 關係 ， \r\n",
      " 協助 夏普 重\n",
      "\n",
      "document : 8\n",
      "鴻海 改革 續見 成果   夏普 2017 財年 營業 利益 預計 大增 5 成 \r\n",
      " \r\n",
      " 夏普 ...  日 ) ， 正式 公布   2017   年度 財報 及   2018   年度 財測 預估 \n",
      "\n",
      "document : 9\n",
      "強化 與 鴻海 合作 ！ 夏普 在 龍華 工廠 設 中國 事業 統籌 公司 \r\n",
      " 鴻海   子公司 ... 一個 年度   ( 淨損   2 , 559   億日圓 )   大幅 縮小 ( 轉虧為盈 ) \n",
      "\n",
      "document : first_all\n",
      "1 . 鴻夏戀   郭台銘 沒學 的 「 大阪 談判術 」 \r\n",
      " 鴻夏戀 談 了 四年 ， 過程 相...2015 年 11 月 24 日以 來 新高 水準 ； 夏普 4 日收盤 狂飆 16.8% 。 \r\n",
      "\n",
      "document : second_all\n",
      "\r\n",
      " 1 . \t 鴻夏戀 一波三折   回顧 4 年全 紀錄 \r\n",
      " 日本 媒體 報導 ， 夏普 （ ...需 得到 夏普 股東 的 批准 ， 會否 節外 生枝 ， 拭目以待 。 \r\n",
      " \r\n",
      " \r\n",
      " \r\n",
      " \r\n",
      "\n"
     ]
    }
   ],
   "source": [
    "for i in range(len(data)):\n",
    "    for key, value in wordDictionary[0].items():\n",
    "        if value <= limit:\n",
    "            data[i] = data[i].replace(key, '')\n",
    "    print('document :', title[i])\n",
    "    print(data[i][:50], '...', data[i][-50:-1], sep='', end='\\n\\n')"
   ]
  },
  {
   "cell_type": "markdown",
   "metadata": {},
   "source": [
    "### 移除所有標點符號、非中文英文數字之資料"
   ]
  },
  {
   "cell_type": "code",
   "execution_count": 11,
   "metadata": {},
   "outputs": [],
   "source": [
    "for i in range(len(data)):\n",
    "    data[i] = re.sub('[^\\u4e00-\\u9fff ]', '', data[i])\n",
    "#[^\\u4e00-\\u9fff A-Za-z0-9]"
   ]
  },
  {
   "cell_type": "markdown",
   "metadata": {},
   "source": [
    "### 印出部份斷字結果"
   ]
  },
  {
   "cell_type": "code",
   "execution_count": 12,
   "metadata": {},
   "outputs": [
    {
     "name": "stdout",
     "output_type": "stream",
     "text": [
      "document : 1\n",
      "中國政府 核准 鴻夏戀   夏普 股價上 ... 機 上 採用      面板 的 需求\n",
      "\n",
      "document : 10\n",
      " 夏普  量產  郭董 令出 必行    ... 運 目標  將有 機會 提前 達成  \n",
      "\n",
      "document : 11\n",
      "鴻海  月 營收 創新高   夏普 也  ...       個 月 就 重返 東證一部\n",
      "\n",
      "document : 12\n",
      "夏普  將 量產   擴大 鴻海 搶單  ... 將是 台企 面板 領域  的 重大突破\n",
      "\n",
      "document : 13\n",
      "夏普 轉虧為盈  郭董  招神 救援   ... 推 組織改造   成效 已 開始 顯現\n",
      "\n",
      "document : 2\n",
      "獲 鴻海 注資   夏普 評級  股價上 ...  機會 從 東證 二部 重回 東證一部\n",
      "\n",
      "document : 3\n",
      "鴻夏戀 齊步 走   鴻家軍 慶祝 行情 ... 訂單 增溫   下半年 可望 營收成長\n",
      "\n",
      "document : 4\n",
      "郭董 神準   月 逢 低 質押 持股  ...   就 能 安心 拚 投資  拚 經濟\n",
      "\n",
      "document : 5\n",
      " 郭董 再 出招    傳 鴻海 攜手  ... 年 或 之 後 的 供貨  預作 準備\n",
      "\n",
      "document : 6\n",
      "鴻海 入主  年   夏普 搶 吃 蘋果 ... 板 正逐漸 受到 手機 客戶 的 青睞\n",
      "\n",
      "document : 7\n",
      "鴻海 正式入主 夏普  億 日元     ... 果 的 良好 關係   協助 夏普 重\n",
      "\n",
      "document : 8\n",
      "鴻海 改革 續見 成果   夏普  財年 ...  財報 及      年度 財測 預估\n",
      "\n",
      "document : 9\n",
      "強化 與 鴻海 合作  夏普 在 龍華  ... 億日圓    大幅 縮小  轉虧為盈 \n",
      "\n",
      "document : first_all\n",
      "  鴻夏戀   郭台銘 沒學 的  大阪 ... 新高 水準  夏普  日收盤 狂飆  \n",
      "\n",
      "document : second_all\n",
      "    鴻夏戀 一波三折   回顧  年 ... 會否 節外 生枝  拭目以待     \n",
      "\n"
     ]
    }
   ],
   "source": [
    "for i in range(len(data)):\n",
    "    print('document :', title[i])\n",
    "    print(data[i][:20], ' ... ', data[i][-20:-1], sep='', end='\\n\\n')"
   ]
  },
  {
   "cell_type": "markdown",
   "metadata": {},
   "source": [
    "### 初始化 TFIDF 物件，用以計算 tfidf"
   ]
  },
  {
   "cell_type": "code",
   "execution_count": 13,
   "metadata": {},
   "outputs": [],
   "source": [
    "tfidf_vectorizer = TfidfVectorizer(max_df = 1, min_df = 0, analyzer = 'word'\n",
    "                                   , stop_words = stopword, max_features = 10000)\n",
    "#tfidf_vectorizer = CountVectorizer(stop_words = stopword)"
   ]
  },
  {
   "cell_type": "markdown",
   "metadata": {},
   "source": [
    "### 顯示初始化時輸入的停止詞彙 "
   ]
  },
  {
   "cell_type": "code",
   "execution_count": 14,
   "metadata": {},
   "outputs": [
    {
     "name": "stdout",
     "output_type": "stream",
     "text": [
      "frozenset({'', '上市', '應該', '百', '而', '三', 'SDP', '能力利益', '一個', '持有', '讓', '最大', '權益', '意見', '代廠', '正', '一進', '三九', '三支', '公司', '2015', '淨', '第二', '三個', '其他', '三率', '超過', '一千七百', '營業', '更', '高', '1', '最高', '三方', '立刻', '重要', '約', '擁有', '一四會計', '說明', '資訊', '子公司', '民國', '該', '三降', '集團', '三十分', '下午', '上旬', '今', '報告增加', '尺寸', '就', '決定', '把', 'NHK', '一職', '一', '如下', '七千', '三公', '文件', '同時', '權', '本年', '出現', '月底', '主幹', '一勞永逸', '三筆', '結轉', '人', '如果', '條件', '可以', '7000', '股東', '三千', '億', '金額', 'Display', '地區', '25', '一般性', '三成', '0', '上揚', '一向', '幅度', '四', '董事', '一方', '註', '報告', '比', '此外', '稅後淨利', '萬張', '加上', 'WitsView', '據', '新', '郭台銘', '整體', '估計', '2', '鴻', '二月', '案', '事', '9', '會計', '一城', '5', '4', '分析', '一擲', '到', '一套', '指出', '上攻', '一下子', '及與', '經營', '一再', '提案', '一家', '由', '三足鼎立', '結果', '目前', '四年', '完成', '是', '做', '群創', '一九', '再', '這個', '上層察覺', '兩家', '廠', '一起', '詳合', '一哩路', '其中', '上層', '由於', '有', '夏', '去年同期', '關鍵', '8', '之一', '不過', '赴', '億日圓', '一塊', '內', '進行', '曾', '三五', '但', '只是', '利', '一回', '階段', '高達', '總額', '能力', '不僅', '之', '附註', '維持', '上千', '度', '上', '雙方', '假設', '因為', '因應', '總資產', '一樁', '的', '召開', '一役', '若', '提供', '一口', '合理性', '什麼', '000', '程序', '10', '上午', '提出', '元', '個', '流量', '正確性', 'JDI', '事業', '最', '面板', '6', '一兆日圓', '鴻夏戀', '一副', '年度', '一手', '三六', '過去', '雖然', '一百九十', '後', '評價', '認列', '營業外', '包括', '部分', '一百', '確性', '就是', '上台', '來', '例如', '一二八', '控制', '前', '認為', '2016', '業務', '媒體', '股份有限公司', '因此', '一九九九年', '測試', '資金評估', '年本', '然而', '三緘其口', '上放著', '都', '一連串', '今年', '發生', '正確', '2012', '罩', '日本', '現金', '可能', '一月', '及', '\\n', '至', '計算資金', '蘋果', '談', '引述', '值', '按', '同期', '已經', '堺', '中', '這份', '所', '三月底', '以', '並', '七七', '台幣', '支出', '評估', '顯示', '一年', '不會', '沒有', '已', '一筆', '人次', '30', '上周', 'INCJ', '三月', '部門', '三十九', '電子', '較', '為', '三角', '從', '一天', '總部', 'LG', 'iPhone', '三點', '加工', '三箭', '之間', '清單', '上極', '一支', '代工', '一成則', '持續', '這是', '陷入', '成為', '表示', '一季', '一月底', '三等', '29一下子', '購', '卻', '率', '日圓', '以及', '向', '十', '大', '無形', '供應商', '在', '社長', '不', '3', '共為', '受到', '仟元', '要', '有助', '品牌', '得', '三億', '特性', '買', '這', '市', '3500', '入座', '一流', '很', '了', '不是', '外界', '預算', '係', '查核', '進入', '執行', '其', '一樣', '三兆台幣', '說', '於', '主要', '日元', '上個', '模型', '重大', '各位', '列', '能', '最終', '取得', '沒', '使用', '另', '年', '相關', '三名', '一比', '對', '安倍', '自', '相對', '財務', '市場', '我', '一步', '方案', '日', '一路', '佔', '併', '12', '時', '七四', '進', '他', '三十五', '是否', '大阪', '才', '五日', '公開', '一身', '接受', '一千五百', '依', '上半年', '九', '一舉', '預估', '影響財務', '邱', '手', '等', '附', '與', '收入', '預測', '七年', '要求', '夏普', '分攤', '故', '仍', '億元', '人士', '鴻海', '合', '土城', '七', '旗下', '一搏', '一顆', '除了', '供', '開關鍵', '月', '計算', '六', '客戶超過', '科目', '工廠', '記者', '七五', '經', '資產', '可', '一把', '成本', '請', '也', '但是', '一站', 'IGZO', '今天', 'NT', '出', '下', '一份', '會', '報導', '長', '將', '達', '一夕', '和', '一片', '三大會', '八', '自己', '內容', '又', '減損', '本', '一項', '我們', '五', '企業', '或', '傳出', '事項', '看', '用', '一宗', '上升', '一百三十元', '實地', '不同', '7', '二', '判斷', '三星', '被', '一攤', '多', '一部', '機構', '去年', '家', '高橋', '一心'})\n"
     ]
    }
   ],
   "source": [
    "print(tfidf_vectorizer.get_stop_words())"
   ]
  },
  {
   "cell_type": "markdown",
   "metadata": {},
   "source": [
    "### 計算 TFIDF 詞頻矩陣"
   ]
  },
  {
   "cell_type": "code",
   "execution_count": 15,
   "metadata": {},
   "outputs": [
    {
     "data": {
      "text/plain": [
       "<15x2911 sparse matrix of type '<class 'numpy.float64'>'\n",
       "\twith 2911 stored elements in Compressed Sparse Row format>"
      ]
     },
     "execution_count": 15,
     "metadata": {},
     "output_type": "execute_result"
    }
   ],
   "source": [
    "tfidf_matrix = tfidf_vectorizer.fit_transform(data)\n",
    "tfidf_matrix"
   ]
  },
  {
   "cell_type": "markdown",
   "metadata": {},
   "source": [
    "### 顯示 TFIDF 詞頻矩陣大小"
   ]
  },
  {
   "cell_type": "code",
   "execution_count": 16,
   "metadata": {},
   "outputs": [
    {
     "data": {
      "text/plain": [
       "(15, 2911)"
      ]
     },
     "execution_count": 16,
     "metadata": {},
     "output_type": "execute_result"
    }
   ],
   "source": [
    "tfidf_matrix.shape"
   ]
  },
  {
   "cell_type": "markdown",
   "metadata": {},
   "source": [
    "### 顯示部份 TFIDF 詞頻矩陣中的字詞"
   ]
  },
  {
   "cell_type": "code",
   "execution_count": 17,
   "metadata": {
    "scrolled": true
   },
   "outputs": [
    {
     "name": "stdout",
     "output_type": "stream",
     "text": [
      "['一五', '一來', '一半', '一段', '一波', '一波三折', '一股', '上任', '上樹', '上游', '下一個', '下令', '下來', '下來並', '下修', '下台', '下嫁', '下挫', '下給', '下藥', '下調', '不予', '不二', '不信任感', '不僅於此', '不出', '不利', '不加', '不及', '不啻', '不單', '不外乎', '不太可能', '不太花', '不太高', '不如', '不妙', '不容', '不差', '不已', '不得不', '不得而知', '不必', '不快', '不怕', '不惜', '不手', '不振', '不放棄', '不料']\n"
     ]
    }
   ],
   "source": [
    "words = tfidf_vectorizer.get_feature_names()\n",
    "print(words[0:50])"
   ]
  },
  {
   "cell_type": "code",
   "execution_count": 18,
   "metadata": {},
   "outputs": [
    {
     "data": {
      "text/html": [
       "<div>\n",
       "<style scoped>\n",
       "    .dataframe tbody tr th:only-of-type {\n",
       "        vertical-align: middle;\n",
       "    }\n",
       "\n",
       "    .dataframe tbody tr th {\n",
       "        vertical-align: top;\n",
       "    }\n",
       "\n",
       "    .dataframe thead th {\n",
       "        text-align: right;\n",
       "    }\n",
       "</style>\n",
       "<table border=\"1\" class=\"dataframe\">\n",
       "  <thead>\n",
       "    <tr style=\"text-align: right;\">\n",
       "      <th></th>\n",
       "      <th>1</th>\n",
       "      <th>10</th>\n",
       "      <th>11</th>\n",
       "      <th>12</th>\n",
       "      <th>13</th>\n",
       "      <th>2</th>\n",
       "      <th>3</th>\n",
       "      <th>4</th>\n",
       "      <th>5</th>\n",
       "      <th>6</th>\n",
       "      <th>7</th>\n",
       "      <th>8</th>\n",
       "      <th>9</th>\n",
       "      <th>first_all</th>\n",
       "      <th>second_all</th>\n",
       "    </tr>\n",
       "  </thead>\n",
       "  <tbody>\n",
       "    <tr>\n",
       "      <th>一五</th>\n",
       "      <td>0.0</td>\n",
       "      <td>0.0</td>\n",
       "      <td>0.0</td>\n",
       "      <td>0.0</td>\n",
       "      <td>0.0</td>\n",
       "      <td>0.0</td>\n",
       "      <td>0.0</td>\n",
       "      <td>0.0</td>\n",
       "      <td>0.0</td>\n",
       "      <td>0.0</td>\n",
       "      <td>0.0</td>\n",
       "      <td>0.0</td>\n",
       "      <td>0.0</td>\n",
       "      <td>0.000000</td>\n",
       "      <td>0.054855</td>\n",
       "    </tr>\n",
       "    <tr>\n",
       "      <th>一來</th>\n",
       "      <td>0.0</td>\n",
       "      <td>0.0</td>\n",
       "      <td>0.0</td>\n",
       "      <td>0.0</td>\n",
       "      <td>0.0</td>\n",
       "      <td>0.0</td>\n",
       "      <td>0.0</td>\n",
       "      <td>0.0</td>\n",
       "      <td>0.0</td>\n",
       "      <td>0.0</td>\n",
       "      <td>0.0</td>\n",
       "      <td>0.0</td>\n",
       "      <td>0.0</td>\n",
       "      <td>0.018679</td>\n",
       "      <td>0.000000</td>\n",
       "    </tr>\n",
       "    <tr>\n",
       "      <th>一半</th>\n",
       "      <td>0.0</td>\n",
       "      <td>0.0</td>\n",
       "      <td>0.0</td>\n",
       "      <td>0.0</td>\n",
       "      <td>0.0</td>\n",
       "      <td>0.0</td>\n",
       "      <td>0.0</td>\n",
       "      <td>0.0</td>\n",
       "      <td>0.0</td>\n",
       "      <td>0.0</td>\n",
       "      <td>0.0</td>\n",
       "      <td>0.0</td>\n",
       "      <td>0.0</td>\n",
       "      <td>0.000000</td>\n",
       "      <td>0.054855</td>\n",
       "    </tr>\n",
       "    <tr>\n",
       "      <th>一段</th>\n",
       "      <td>0.0</td>\n",
       "      <td>0.0</td>\n",
       "      <td>0.0</td>\n",
       "      <td>0.0</td>\n",
       "      <td>0.0</td>\n",
       "      <td>0.0</td>\n",
       "      <td>0.0</td>\n",
       "      <td>0.0</td>\n",
       "      <td>0.0</td>\n",
       "      <td>0.0</td>\n",
       "      <td>0.0</td>\n",
       "      <td>0.0</td>\n",
       "      <td>0.0</td>\n",
       "      <td>0.056038</td>\n",
       "      <td>0.000000</td>\n",
       "    </tr>\n",
       "    <tr>\n",
       "      <th>一波</th>\n",
       "      <td>0.0</td>\n",
       "      <td>0.0</td>\n",
       "      <td>0.0</td>\n",
       "      <td>0.0</td>\n",
       "      <td>0.0</td>\n",
       "      <td>0.0</td>\n",
       "      <td>0.0</td>\n",
       "      <td>0.0</td>\n",
       "      <td>0.0</td>\n",
       "      <td>0.0</td>\n",
       "      <td>0.0</td>\n",
       "      <td>0.0</td>\n",
       "      <td>0.0</td>\n",
       "      <td>0.000000</td>\n",
       "      <td>0.054855</td>\n",
       "    </tr>\n",
       "  </tbody>\n",
       "</table>\n",
       "</div>"
      ],
      "text/plain": [
       "      1   10   11   12   13    2    3    4    5    6    7    8    9  \\\n",
       "一五  0.0  0.0  0.0  0.0  0.0  0.0  0.0  0.0  0.0  0.0  0.0  0.0  0.0   \n",
       "一來  0.0  0.0  0.0  0.0  0.0  0.0  0.0  0.0  0.0  0.0  0.0  0.0  0.0   \n",
       "一半  0.0  0.0  0.0  0.0  0.0  0.0  0.0  0.0  0.0  0.0  0.0  0.0  0.0   \n",
       "一段  0.0  0.0  0.0  0.0  0.0  0.0  0.0  0.0  0.0  0.0  0.0  0.0  0.0   \n",
       "一波  0.0  0.0  0.0  0.0  0.0  0.0  0.0  0.0  0.0  0.0  0.0  0.0  0.0   \n",
       "\n",
       "    first_all  second_all  \n",
       "一五   0.000000    0.054855  \n",
       "一來   0.018679    0.000000  \n",
       "一半   0.000000    0.054855  \n",
       "一段   0.056038    0.000000  \n",
       "一波   0.000000    0.054855  "
      ]
     },
     "execution_count": 18,
     "metadata": {},
     "output_type": "execute_result"
    }
   ],
   "source": [
    "data = pd.DataFrame(tfidf_matrix.toarray().T, index = words, columns = title)\n",
    "data.head()"
   ]
  },
  {
   "cell_type": "markdown",
   "metadata": {},
   "source": [
    "### 顯示 TFIDF > 閥值 (limit) 的資料"
   ]
  },
  {
   "cell_type": "raw",
   "metadata": {},
   "source": [
    "limit = 0.1\n",
    "wordsperdocument = 10\n",
    "for i in range(len(data)):\n",
    "    count = 0\n",
    "    print('----Document : {0}----'.format(title[i]))\n",
    "    for j in range(len(words)):\n",
    "        if (tfidf_matrix[i,j] > limit) and (count != wordsperdocument):\n",
    "            print(words[j], tfidf_matrix[i,j])\n",
    "            count += 1"
   ]
  },
  {
   "cell_type": "raw",
   "metadata": {},
   "source": [
    "from sklearn.preprocessing import StandardScaler\n",
    "X_std = StandardScaler().fit_transform(pac_value)\n",
    "X_std.shape"
   ]
  },
  {
   "cell_type": "raw",
   "metadata": {},
   "source": [
    "pca = PCA()\n",
    "pac_value = pca.fit_transform(tfidf_matrix.toarray())\n",
    "data = pd.DataFrame(pac_value)"
   ]
  },
  {
   "cell_type": "markdown",
   "metadata": {},
   "source": [
    "### 繪製文章間相關性圖"
   ]
  },
  {
   "cell_type": "code",
   "execution_count": 19,
   "metadata": {},
   "outputs": [
    {
     "data": {
      "text/plain": [
       "<matplotlib.axes._subplots.AxesSubplot at 0x17999d3c358>"
      ]
     },
     "execution_count": 19,
     "metadata": {},
     "output_type": "execute_result"
    },
    {
     "data": {
      "image/png": "[encoded data removed]",
      "text/plain": [
       "<Figure size 1080x1080 with 2 Axes>"
      ]
     },
     "metadata": {},
     "output_type": "display_data"
    }
   ],
   "source": [
    "f, ax = plt.subplots(figsize=(15,15))\n",
    "plt.title('Correlation of Documents', fontsize = 13)\n",
    "sns.heatmap(data.astype(float).corr(), linewidths=0.25, vmax=1.0, square=True,\n",
    "           cmap=\"YlGnBu\", linecolor='black', annot=True)"
   ]
  },
  {
   "cell_type": "markdown",
   "metadata": {},
   "source": [
    "### 將詞頻矩陣標準化"
   ]
  },
  {
   "cell_type": "code",
   "execution_count": 20,
   "metadata": {},
   "outputs": [
    {
     "data": {
      "text/plain": [
       "array([[-0.26726124, -0.26726124, -0.26726124, ..., -0.26726124,\n",
       "        -0.26726124, -0.26726124],\n",
       "       [-0.26726124, -0.26726124, -0.26726124, ..., -0.26726124,\n",
       "        -0.26726124, -0.26726124],\n",
       "       [-0.26726124, -0.26726124, -0.26726124, ..., -0.26726124,\n",
       "        -0.26726124, -0.26726124],\n",
       "       ...,\n",
       "       [-0.26726124, -0.26726124, -0.26726124, ...,  3.74165739,\n",
       "        -0.26726124, -0.26726124],\n",
       "       [-0.26726124,  3.74165739, -0.26726124, ..., -0.26726124,\n",
       "         3.74165739, -0.26726124],\n",
       "       [ 3.74165739, -0.26726124,  3.74165739, ..., -0.26726124,\n",
       "        -0.26726124, -0.26726124]])"
      ]
     },
     "execution_count": 20,
     "metadata": {},
     "output_type": "execute_result"
    }
   ],
   "source": [
    "data_std = StandardScaler().fit_transform(data.values.T)\n",
    "data_std"
   ]
  },
  {
   "cell_type": "markdown",
   "metadata": {},
   "source": [
    "### 將標準化後的詞頻矩陣降至 7 維"
   ]
  },
  {
   "cell_type": "code",
   "execution_count": 21,
   "metadata": {},
   "outputs": [
    {
     "data": {
      "text/plain": [
       "array([[-2.72376514e+00, -1.29484053e+01, -9.23456041e-01,\n",
       "        -5.64229213e-01, -9.06618739e-01, -1.03041542e+00,\n",
       "         1.17573895e+00],\n",
       "       [-2.72376514e+00, -1.29484053e+01, -9.23456041e-01,\n",
       "        -5.64229213e-01, -9.06618739e-01, -1.03041542e+00,\n",
       "         1.17573895e+00],\n",
       "       [-2.75248436e+00, -1.31076895e+01, -1.47409203e+00,\n",
       "        -1.01472674e+00, -1.76239335e+00, -2.28761450e+00,\n",
       "         3.22281161e+00],\n",
       "       [-2.77953723e+00, -1.32582393e+01, -3.27874685e+00,\n",
       "        -3.85845712e+00, -1.36948528e+01,  1.81216548e+01,\n",
       "        -5.30797385e+00],\n",
       "       [-2.76594465e+00, -1.31825346e+01, -2.03380536e+00,\n",
       "        -1.60686719e+00, -3.12290006e+00, -5.23623277e+00,\n",
       "         1.64079316e+01],\n",
       "       [-2.73473978e+00, -1.30092082e+01, -1.07838828e+00,\n",
       "        -6.80412043e-01, -1.11482271e+00, -1.30659281e+00,\n",
       "         1.55582941e+00],\n",
       "       [-2.78638375e+00, -1.32964187e+01, -4.72484190e+00,\n",
       "        -1.28879364e+01,  1.97716819e+01,  5.60970809e+00,\n",
       "        -3.19420676e+00],\n",
       "       [-2.73694533e+00, -1.30214373e+01, -1.11582981e+00,\n",
       "        -7.09636912e-01, -1.16849125e+00, -1.38059996e+00,\n",
       "         1.66337596e+00],\n",
       "       [-2.72376514e+00, -1.29484053e+01, -9.23456041e-01,\n",
       "        -5.64229213e-01, -9.06618739e-01, -1.03041542e+00,\n",
       "         1.17573895e+00],\n",
       "       [-2.80480710e+00, -1.33993137e+01,  2.68249065e+01,\n",
       "         2.45930617e+00,  2.63039681e+00,  1.97443039e+00,\n",
       "        -1.54913222e+00],\n",
       "       [-2.79096686e+00, -1.33219940e+01, -6.69273383e+00,\n",
       "         2.30092767e+01,  7.52016903e+00,  3.84149097e+00,\n",
       "        -2.52410041e+00],\n",
       "       [-2.74136712e+00, -1.30459648e+01, -1.19909469e+00,\n",
       "        -7.76325989e-01, -1.29298180e+00, -1.55697860e+00,\n",
       "         1.93022983e+00],\n",
       "       [-2.77272428e+00, -1.32202786e+01, -2.51040655e+00,\n",
       "        -2.26886011e+00, -5.08601321e+00, -1.47281482e+01,\n",
       "        -1.56924691e+01],\n",
       "       [-8.09250967e+01,  1.03208091e+02,  2.74872629e-02,\n",
       "         1.40644247e-02,  2.06182141e-02,  2.06502590e-02,\n",
       "        -2.03317794e-02],\n",
       "       [ 1.16762293e+02,  6.75002033e+01,  2.59136467e-02,\n",
       "         1.32628194e-02,  1.94454367e-02,  1.94785851e-02,\n",
       "        -1.91811076e-02]])"
      ]
     },
     "execution_count": 21,
     "metadata": {},
     "output_type": "execute_result"
    }
   ],
   "source": [
    "pca_7 = PCA(n_components=7)\n",
    "x_7d = pca_7.fit_transform(data_std)\n",
    "x_7d"
   ]
  },
  {
   "cell_type": "markdown",
   "metadata": {},
   "source": [
    "### 利用 KMeans 將 7 維數據分成 3 組"
   ]
  },
  {
   "cell_type": "code",
   "execution_count": 22,
   "metadata": {},
   "outputs": [
    {
     "data": {
      "image/png": "[encoded data removed]",
      "text/plain": [
       "<Figure size 504x504 with 1 Axes>"
      ]
     },
     "metadata": {},
     "output_type": "display_data"
    }
   ],
   "source": [
    "#Set a 3 KMeans clustering\n",
    "kmeans = KMeans(n_clusters = 3)\n",
    "\n",
    "#Compute cluster centers and predict cluster indices\n",
    "X_clustered = kmeans.fit_predict(x_7d)\n",
    "\n",
    "#Define our own color map\n",
    "LABEL_COLOR_MAP = {0:'r', 1: 'g', 2: 'b'}\n",
    "label_color = [LABEL_COLOR_MAP[l] for l in X_clustered]\n",
    "\n",
    "# Plot the scatter digram\n",
    "plt.figure(figsize = (7,7))\n",
    "plt.scatter(x_7d[:,0],x_7d[:,2], c= label_color, alpha=0.5) \n",
    "plt.show()"
   ]
  },
  {
   "cell_type": "markdown",
   "metadata": {},
   "source": [
    "### 顯示各組別文件名稱"
   ]
  },
  {
   "cell_type": "code",
   "execution_count": 23,
   "metadata": {},
   "outputs": [
    {
     "name": "stdout",
     "output_type": "stream",
     "text": [
      "Group  1 ( color: g ):\n",
      "\t 1\n",
      "\t 10\n",
      "\t 11\n",
      "\t 12\n",
      "\t 13\n",
      "\t 2\n",
      "\t 3\n",
      "\t 4\n",
      "\t 5\n",
      "\t 6\n",
      "\t 7\n",
      "\t 8\n",
      "\t 9\n",
      "Group  0 ( color: r ):\n",
      "\t first_all\n",
      "Group  2 ( color: b ):\n",
      "\t second_all\n"
     ]
    }
   ],
   "source": [
    "cluster = dict()\n",
    "for ind, val in enumerate(X_clustered):\n",
    "    cluster.setdefault(val, []).append(ind)\n",
    "for group, ls in cluster.items():\n",
    "    print('Group ', group, '( color:', LABEL_COLOR_MAP[group], '):')\n",
    "    for file in ls.__iter__():\n",
    "        print('\\t', title[file])"
   ]
  },
  {
   "cell_type": "markdown",
   "metadata": {},
   "source": [
    "### 將標準化後的詞頻矩陣降至 4 維"
   ]
  },
  {
   "cell_type": "code",
   "execution_count": 24,
   "metadata": {},
   "outputs": [
    {
     "data": {
      "text/plain": [
       "array([[-2.72376514e+00, -1.29484053e+01, -9.23456041e-01,\n",
       "        -5.64229213e-01],\n",
       "       [-2.72376514e+00, -1.29484053e+01, -9.23456041e-01,\n",
       "        -5.64229213e-01],\n",
       "       [-2.75248436e+00, -1.31076895e+01, -1.47409203e+00,\n",
       "        -1.01472674e+00],\n",
       "       [-2.77953723e+00, -1.32582393e+01, -3.27874685e+00,\n",
       "        -3.85845712e+00],\n",
       "       [-2.76594465e+00, -1.31825346e+01, -2.03380536e+00,\n",
       "        -1.60686719e+00],\n",
       "       [-2.73473978e+00, -1.30092082e+01, -1.07838828e+00,\n",
       "        -6.80412043e-01],\n",
       "       [-2.78638375e+00, -1.32964187e+01, -4.72484190e+00,\n",
       "        -1.28879364e+01],\n",
       "       [-2.73694533e+00, -1.30214373e+01, -1.11582981e+00,\n",
       "        -7.09636912e-01],\n",
       "       [-2.72376514e+00, -1.29484053e+01, -9.23456041e-01,\n",
       "        -5.64229213e-01],\n",
       "       [-2.80480710e+00, -1.33993137e+01,  2.68249065e+01,\n",
       "         2.45930617e+00],\n",
       "       [-2.79096686e+00, -1.33219940e+01, -6.69273383e+00,\n",
       "         2.30092767e+01],\n",
       "       [-2.74136712e+00, -1.30459648e+01, -1.19909469e+00,\n",
       "        -7.76325989e-01],\n",
       "       [-2.77272428e+00, -1.32202786e+01, -2.51040655e+00,\n",
       "        -2.26886011e+00],\n",
       "       [-8.09250967e+01,  1.03208091e+02,  2.74872629e-02,\n",
       "         1.40644247e-02],\n",
       "       [ 1.16762293e+02,  6.75002033e+01,  2.59136467e-02,\n",
       "         1.32628194e-02]])"
      ]
     },
     "execution_count": 24,
     "metadata": {},
     "output_type": "execute_result"
    }
   ],
   "source": [
    "pca_4 = PCA(n_components=4)\n",
    "x_4d = pca_4.fit_transform(data_std)\n",
    "x_4d"
   ]
  },
  {
   "cell_type": "markdown",
   "metadata": {},
   "source": [
    "### 利用 KMeans 將 4 維數據分成 3 組"
   ]
  },
  {
   "cell_type": "code",
   "execution_count": 25,
   "metadata": {},
   "outputs": [
    {
     "data": {
      "image/png": "[encoded data removed]",
      "text/plain": [
       "<Figure size 504x504 with 1 Axes>"
      ]
     },
     "metadata": {},
     "output_type": "display_data"
    }
   ],
   "source": [
    "#Set a 3 KMeans clustering\n",
    "kmeans = KMeans(n_clusters = 3)\n",
    "\n",
    "#Compute cluster centers and predict cluster indices\n",
    "X_clustered = kmeans.fit_predict(x_4d)\n",
    "\n",
    "#Define our own color map\n",
    "LABEL_COLOR_MAP = {0:'r', 1: 'g', 2: 'b'}\n",
    "label_color = [LABEL_COLOR_MAP[l] for l in X_clustered]\n",
    "\n",
    "# Plot the scatter digram\n",
    "plt.figure(figsize = (7,7))\n",
    "plt.scatter(x_4d[:,0],x_4d[:,2], c= label_color, alpha=0.5) \n",
    "plt.show()"
   ]
  },
  {
   "cell_type": "markdown",
   "metadata": {},
   "source": [
    "### 顯示各組別文件名稱"
   ]
  },
  {
   "cell_type": "code",
   "execution_count": 26,
   "metadata": {},
   "outputs": [
    {
     "name": "stdout",
     "output_type": "stream",
     "text": [
      "Group  0 ( color: r ):\n",
      "\t 1\n",
      "\t 10\n",
      "\t 11\n",
      "\t 12\n",
      "\t 13\n",
      "\t 2\n",
      "\t 3\n",
      "\t 4\n",
      "\t 5\n",
      "\t 6\n",
      "\t 7\n",
      "\t 8\n",
      "\t 9\n",
      "Group  2 ( color: b ):\n",
      "\t first_all\n",
      "Group  1 ( color: g ):\n",
      "\t second_all\n"
     ]
    }
   ],
   "source": [
    "cluster = dict()\n",
    "for ind, val in enumerate(X_clustered):\n",
    "    cluster.setdefault(val, []).append(ind)\n",
    "for group, ls in cluster.items():\n",
    "    print('Group ', group, '( color:', LABEL_COLOR_MAP[group], '):')\n",
    "    for file in ls.__iter__():\n",
    "        print('\\t', title[file])"
   ]
  }
 ],
 "metadata": {
  "kernelspec": {
   "display_name": "Python 3",
   "language": "python",
   "name": "python3"
  },
  "language_info": {
   "codemirror_mode": {
    "name": "ipython",
    "version": 3
   },
   "file_extension": ".py",
   "mimetype": "text/x-python",
   "name": "python",
   "nbconvert_exporter": "python",
   "pygments_lexer": "ipython3",
   "version": "3.6.5"
  },
  "varInspector": {
   "cols": {
    "lenName": 16,
    "lenType": 16,
    "lenVar": 40
   },
   "kernels_config": {
    "python": {
     "delete_cmd_postfix": "",
     "delete_cmd_prefix": "del ",
     "library": "var_list.py",
     "varRefreshCmd": "print(var_dic_list())"
    },
    "r": {
     "delete_cmd_postfix": ") ",
     "delete_cmd_prefix": "rm(",
     "library": "var_list.r",
     "varRefreshCmd": "cat(var_dic_list()) "
    }
   },
   "position": {
    "height": "428px",
    "left": "1493px",
    "right": "20px",
    "top": "115px",
    "width": "350px"
   },
   "types_to_exclude": [
    "module",
    "function",
    "builtin_function_or_method",
    "instance",
    "_Feature"
   ],
   "window_display": false
  }
 },
 "nbformat": 4,
 "nbformat_minor": 2
}
